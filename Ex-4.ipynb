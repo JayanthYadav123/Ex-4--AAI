{
  "nbformat": 4,
  "nbformat_minor": 0,
  "metadata": {
    "colab": {
      "provenance": [],
      "authorship_tag": "ABX9TyM4qRPVNxGHLsMUxQQrIJ5b",
      "include_colab_link": true
    },
    "kernelspec": {
      "name": "python3",
      "display_name": "Python 3"
    },
    "language_info": {
      "name": "python"
    }
  },
  "cells": [
    {
      "cell_type": "markdown",
      "metadata": {
        "id": "view-in-github",
        "colab_type": "text"
      },
      "source": [
        "<a href=\"https://colab.research.google.com/github/JayanthYadav123/Ex-4--AAI/blob/main/Ex-4.ipynb\" target=\"_parent\"><img src=\"https://colab.research.google.com/assets/colab-badge.svg\" alt=\"Open In Colab\"/></a>"
      ]
    },
    {
      "cell_type": "code",
      "execution_count": 1,
      "metadata": {
        "id": "Rzu25DGGv5bk"
      },
      "outputs": [],
      "source": [
        "import numpy as np"
      ]
    },
    {
      "cell_type": "code",
      "source": [
        "\n",
        "transition_matrix=np.array([[0.7,0.3],[0.4,0.6]])\n",
        "initial_probabilities=np.array([0.5,0.5])\n",
        "observed_sequence=np.array([1,1,1,0,0,1])\n",
        "emisson_matrix=np.array([[0.1,0.9],[0.8,0.2]])"
      ],
      "metadata": {
        "id": "xLCL7ws-wmFQ"
      },
      "execution_count": 2,
      "outputs": []
    },
    {
      "cell_type": "code",
      "source": [
        "alpha=np.zeros((len(observed_sequence),len(initial_probabilities)))"
      ],
      "metadata": {
        "id": "ukdyzFxcwqGY"
      },
      "execution_count": 3,
      "outputs": []
    },
    {
      "cell_type": "code",
      "source": [
        "alpha[0,:]=initial_probabilities*emisson_matrix[:,observed_sequence[0]]"
      ],
      "metadata": {
        "id": "luDwEsSWww5-"
      },
      "execution_count": 4,
      "outputs": []
    },
    {
      "cell_type": "code",
      "source": [
        "for t in range(1,len(observed_sequence)):\n",
        "  for j in range(len(initial_probabilities)):\n",
        "    alpha[t,j]=emisson_matrix[j,observed_sequence[t]]*np.sum(alpha[t-1,:]*transition_matrix[:,j])"
      ],
      "metadata": {
        "id": "4X1JInoUw0fR"
      },
      "execution_count": 5,
      "outputs": []
    },
    {
      "cell_type": "code",
      "source": [
        "\n",
        "probability=np.sum(alpha[-1,:])"
      ],
      "metadata": {
        "id": "o1umfwIlw5Zj"
      },
      "execution_count": 6,
      "outputs": []
    },
    {
      "cell_type": "code",
      "source": [
        "print(\"The probability of the observed sequence is:\",probability)"
      ],
      "metadata": {
        "colab": {
          "base_uri": "https://localhost:8080/"
        },
        "id": "WrctTnPnw9LQ",
        "outputId": "73c8378b-4f5b-4561-e8d4-ccfcb7b8934f"
      },
      "execution_count": 7,
      "outputs": [
        {
          "output_type": "stream",
          "name": "stdout",
          "text": [
            "The probability of the observed sequence is: 0.018906881625\n"
          ]
        }
      ]
    },
    {
      "cell_type": "code",
      "source": [
        "most_likely_sequence=[]\n",
        "for t in range(len(observed_sequence)):\n",
        "  if(alpha[t,0] > alpha[t,1]):\n",
        "    most_likely_sequence.append(\"sunny\")\n",
        "  else:\n",
        "    most_likely_sequence.append('rainy')\n"
      ],
      "metadata": {
        "id": "N_aEIwkRxBcJ"
      },
      "execution_count": 8,
      "outputs": []
    },
    {
      "cell_type": "code",
      "source": [
        "print(\"The most likely sequence of weather states is:\",most_likely_sequence)"
      ],
      "metadata": {
        "colab": {
          "base_uri": "https://localhost:8080/"
        },
        "id": "wvWstj-gxHpE",
        "outputId": "32214877-09be-4ea2-8c1f-aeffd1d31896"
      },
      "execution_count": 9,
      "outputs": [
        {
          "output_type": "stream",
          "name": "stdout",
          "text": [
            "The most likely sequence of weather states is: ['sunny', 'sunny', 'sunny', 'rainy', 'rainy', 'sunny']\n"
          ]
        }
      ]
    }
  ]
}